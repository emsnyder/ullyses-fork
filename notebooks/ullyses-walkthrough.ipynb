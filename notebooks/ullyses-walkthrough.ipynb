{
 "cells": [
  {
   "cell_type": "markdown",
   "metadata": {
    "slideshow": {
     "slide_type": "slide"
    }
   },
   "source": [
    "<a id=\"top\"></a>\n",
    "# ULLYSES Data Walkthrough Notebook"
   ]
  },
  {
   "cell_type": "markdown",
   "metadata": {
    "slideshow": {
     "slide_type": "skip"
    }
   },
   "source": [
    "***"
   ]
  },
  {
   "cell_type": "markdown",
   "metadata": {},
   "source": [
    "## Learning Goals\n",
    "\n",
    "By the end of this tutorial, you will:\n",
    "\n",
    "- Know the different types of high level science products (HLSPs) offered by the ULLYSES team.\n",
    "- Be able to open each file and view its contents and metadata.\n",
    "- Understand how to use each type of HSLP."
   ]
  },
  {
   "cell_type": "markdown",
   "metadata": {},
   "source": [
    "## Table of Contents\n",
    "**0. [Introduction](#introduction)**\n",
    "\n",
    "**1. [HLSP Descriptions and Filename Convention](#hlspdescrip)**\n",
    "\n",
    "**2. [HLSP File Exploration](#hlspformats)**\n",
    "\n",
    "\\- 2.1 [Single-epoch Spectra](#single)\n",
    "\n",
    "\\- 2.2 [Time-series Spectra](#tss)\n",
    "\n",
    "\\- 2.3 [WFC3 Drizzled Images](#drizzle)\n",
    "\n",
    "**3. [Examples](#examples)**\n",
    "\n",
    "\\- 3.1 [Example 1: Exploring HLSPs](#ex1)\n",
    "\n",
    "\\- 3.2 [Example 2: Getting HLSP Metadata](#ex2)\n",
    "\n",
    "\\- 3.3 [Example 3: ](#ex3)"
   ]
  },
  {
   "cell_type": "markdown",
   "metadata": {
    "slideshow": {
     "slide_type": "slide"
    }
   },
   "source": [
    "<a id=\"introduction\"></a>\n",
    "## Introduction\n",
    "\n",
    "The Hubble Space Telescope’s (HST) Ultraviolet Legacy Library of Young Stars as Essential Standards ([ULLYSES](https://ullyses.stsci.edu/index.html) program has devoted approximately 1,000 HST orbits to the production of an ultraviolet spectroscopic library of young high- and low-mass stars in the local universe. This Director’s Discretionary program was designed to take advantage of HST’s unique UV capabilities, as both high- and low-mass stars feature different complex UV emission processes that strongly impact their surroundings, but are difficult to model. The UV emission from star formation is central to a wide range of vital astrophysical issues, ranging from cosmic reionization to the formation of planets.\n",
    "\n",
    "The ULLYSES program uniformly sampled the fundamental astrophysical parameter space for each mass regime — including spectral type, luminosity class, and metallicity for massive OB stars (in the Magellanic Clouds and two other lower-metallicity nearby galaxies) and the mass, age, and disk accretion rate for low-mass T Tauri stars (in eight young Galactic associations). The data were gathered over a three-year period, from Cycle 27 through Cycle 29 (2020-2022). The design and targets of these observations were determined in partnership with the astronomical community, allowing researchers from around the world to help develop the final program and to plan coordinated observations with other space- and ground-based telescopes.\n",
    "\n",
    "The ULLYSES team produces several types of High Level Science Products (HLSPs), which we will walk through in this notebook. Products are made using both archival data and new HST observations obtained through the ULLYSES program. Data products are available from the [ULLYSES website](https://ullyses.stsci.edu/ullyses-download.html) (HLSPs and contributing data), the [MAST Data Discovery Portal](https://mast.stsci.edu/) (HLSPs and contributing data), or directly as a High-Level Science Product collection using the [DOI](https://archive.stsci.edu/hlsp/ullyses) (HLSPs only)."
   ]
  },
  {
   "cell_type": "markdown",
   "metadata": {
    "slideshow": {
     "slide_type": "slide"
    }
   },
   "source": [
    "### Imports\n",
    "Describe the libraries we're using here. If there's something unusual, explain what the library is, and why we need it.\n",
    "- *numpy* to handle array functions\n",
    "- *astropy.io fits* for accessing FITS files\n",
    "- *astropy.table Table* for creating tidy tables of the data\n",
    "- *matplotlib.pyplot* for plotting data\n",
    "- *Path* to create product and data directories\n",
    "- *shutil* to perform directory and file operations\n",
    "- *os* to interact with the operating system"
   ]
  },
  {
   "cell_type": "code",
   "execution_count": 2,
   "metadata": {
    "slideshow": {
     "slide_type": "fragment"
    }
   },
   "outputs": [],
   "source": [
    "%matplotlib inline\n",
    "import numpy as np\n",
    "from astropy.io import fits\n",
    "from astropy.table import Table\n",
    "import matplotlib.pyplot as plt\n",
    "import os\n",
    "from pathlib import Path\n",
    "import shutil"
   ]
  },
  {
   "cell_type": "markdown",
   "metadata": {},
   "source": [
    "***"
   ]
  },
  {
   "cell_type": "markdown",
   "metadata": {},
   "source": [
    "<a id=\"hlspdescrip\"></a>\n",
    "## HLSP Descriptions and Filename Convention"
   ]
  },
  {
   "cell_type": "markdown",
   "metadata": {},
   "source": [
    "The file names for ULLYSES science data products follow a naming scheme which encodes the target designation and the instruments and observing configuration(s) that contribute to the product. However, not all products will appear in the early releases. File names have the form:\n",
    "\n",
    "`hlsp_ullyses_<telescope>_<instrument>_<target>_<opt_elem>_<version>_<product-type>`\n",
    "\n",
    "where\n",
    "\n",
    "`<target>` is the target name\n",
    "`<version>` is the data release identifier (dr1, dr2, etc.)\n",
    "\n",
    "The `<telescope>`, `<instrument>`, `<opt_elem>`, and `<product-type>` templates take names from the following table:"
   ]
  },
  {
   "cell_type": "markdown",
   "metadata": {},
   "source": [
    "| Description                                                                                                  | Telescope | Instrument    | Opt-Elem                                        | Product-Type      | Level |\n",
    "|--------------------------------------------------------------------------------------------------------------|-----------|---------------|-------------------------------------------------|-------------------|-------|\n",
    "| Custom calibrated STIS 1D spectra                                                                            | hst       | stis          | g230l, g430l, or g750l                             | spec.fits         | 0     |\n",
    "| STIS custom calibration parameter files                                                                      | hst       | stis          | g230l, g430l, or g750l                             | spec.yaml         | 0     |\n",
    "| STIS echelle single grating, where the orders have been extracted and merged.                                | hst       | stis          | e140l, e230h, e140m, or e230m                      | mspec.fits        | 1     |\n",
    "| Combined spectra, with common instrument and  grating, and in some cases with different cenwave settings.    | hst       | cos           | g130m, g160m, g185m, or g230l                      | cpsec.fits        | 2     |\n",
    "|                                                                                                              |           | stis          | e140l, e230h, e140m, e230m, g230l, g430l, or g750l |                   |       |\n",
    "| Combined spectra, with common instrument, different gratings and cenwave settings, and grouped by resolution | fuse      | fuv           | lwrs or mdrs                                    | cspec.fits        | 3     |\n",
    "|                                                                                                              | hst       | cos           | g130m-g160m-g185m                               |                   |       |\n",
    "|                                                                                                              |           | stis          | e140h-e230h, g140m-e230m or g230l-g430l-g750l |                   |       |\n",
    "| All instruments and settings abutted together*                                                               | hst       | cos-stis      | uv or uv-opt                                    | preview-spec.fits | 4     |\n",
    "|                                                                                                              | hst-fuse  | fuse-cos-stis | uv-opt                                          |                   |       |\n",
    "| Exposure-level time-series spectra                                                                           | hst       | cos           | g130m or g160m                                    | tss.fits          | 5     |\n",
    "|                                                                                                              | lcogt     | 04m           | v-ip                                            |                   |       |\n",
    "| Subexposure-level time-series spectra                                                                        | hst       | cos           | g130m or g160m                                    | split-tss.fits    | 5     |\n",
    "| WFC3 drizzled images                                                                                         | hst       | wfc3          | f225w, f275w, f336w, f475w or f814w               | drc.fits          | 6     |"
   ]
  },
  {
   "cell_type": "markdown",
   "metadata": {},
   "source": [
    "***"
   ]
  },
  {
   "cell_type": "markdown",
   "metadata": {},
   "source": [
    "<a id=\"hlspformats\"></a>\n",
    "## HLSP File Formats"
   ]
  },
  {
   "cell_type": "markdown",
   "metadata": {},
   "source": [
    "Most High Level Science Products are in FITS format. The organization of each FITS file depends on the HLSP type. There are three broad categories of HLSPs: single-epoch spectra, time-series spectra, and drizzled images."
   ]
  },
  {
   "cell_type": "markdown",
   "metadata": {},
   "source": [
    "<a id=\"single\"></a>\n",
    "### Single Epoch Spectra"
   ]
  },
  {
   "cell_type": "markdown",
   "metadata": {},
   "source": [
    "#### FITS File Structure\n",
    "\n",
    "Spectral data and information is stored in two BINTABLE extensions:\n",
    "- a Science extension for the combined product, and\n",
    "- a matching Provenance extension to record attributes of each spectrum that contributed to the combined product"
   ]
  },
  {
   "cell_type": "markdown",
   "metadata": {},
   "source": [
    "<a id=\"tss\"></a>\n",
    "### Timeseries Spectra"
   ]
  },
  {
   "cell_type": "markdown",
   "metadata": {},
   "source": [
    "#### FITS File Structure\n",
    "\n",
    "Like the single epoch spectra, the time series spectral (TSS) data and information is stored in two BINTABLE extensions:\n",
    "- a Science extension for the combined product, and\n",
    "- a matching Provenance extension to record attributes of each spectrum that contributed to the combined product\n",
    "\n",
    "Next, let's download a TTS file and explore."
   ]
  },
  {
   "cell_type": "code",
   "execution_count": 7,
   "metadata": {},
   "outputs": [
    {
     "name": "stdout",
     "output_type": "stream",
     "text": [
      "  % Total    % Received % Xferd  Average Speed   Time    Time     Time  Current\n",
      "                                 Dload  Upload   Total   Spent    Left  Speed\n",
      "100 54720  100 54720    0     0   269k      0 --:--:-- --:--:-- --:--:--  276k\n"
     ]
    }
   ],
   "source": [
    "# Use curl to download a TSS data product for the target Hn5 (GX Cha)\n",
    "!curl -L -X GET \"https://mast.stsci.edu/api/v0.1/Download/file?uri=mast%3AHLSP%2Fullyses%2Fhn5%2Fdr6%2Fhlsp_ullyses_lcogt_04m_hn5_v-iprime_dr6_tss.fits\" --output \"hlsp_ullyses_lcogt_04m_hn5_v-iprime_dr6_tss.fits\" --fail --create-dirs"
   ]
  },
  {
   "cell_type": "code",
   "execution_count": 10,
   "metadata": {},
   "outputs": [
    {
     "name": "stdout",
     "output_type": "stream",
     "text": [
      "Filename: hlsp_ullyses_lcogt_04m_hn5_v-iprime_dr6_tss.fits\n",
      "No.    Name      Ver    Type      Cards   Dimensions   Format\n",
      "  0  PRIMARY       1 PrimaryHDU      36   ()      \n",
      "  1  SCIENCE       1 BinTableHDU     36   1R x 5C   [100D, 100D, 2E, 200E, 200E]   \n",
      "  2  PROVENANCE    1 BinTableHDU     37   100R x 12C   [40A, 32A, 32A, 32A, 32A, 32A, 32A, 32A, D, D, D, D]   \n",
      "None\n"
     ]
    }
   ],
   "source": [
    "# Create a variable to point to the file we just downloaded\n",
    "tss_file = Path('./hlsp_ullyses_lcogt_04m_hn5_v-iprime_dr6_tss.fits')\n",
    "tss_data = fits.open(tss_file)\n",
    "print(tss_data.info())"
   ]
  },
  {
   "cell_type": "markdown",
   "metadata": {},
   "source": [
    "\\\n",
    "From the filename, we can see:\n",
    "- the telescope used is LCOGT (add link here)\n",
    "- the instrument used is the 0.4 meter\n",
    "- the optical element is v-iprime\n",
    "- this file was created for data release 6\n",
    "\n",
    "Now we'll look at the science and provenance extensions."
   ]
  },
  {
   "cell_type": "markdown",
   "metadata": {},
   "source": [
    "#### Time-series Spectra Science Table\n",
    "The TSS products have slightly different table columns compared to single-epoch spectra. The FLUX and ERROR arrays are 2D arrays with wavelength increasing X, and time increasing along Y. The wavelength values for each column of the 2D data are stored in the WAVELENGTH array, while the MJDSTART and MJDEND columns store the start and end times for each row of the FLUX and ERROR arrays."
   ]
  },
  {
   "cell_type": "code",
   "execution_count": 25,
   "metadata": {},
   "outputs": [
    {
     "name": "stdout",
     "output_type": "stream",
     "text": [
      "ColDefs(\n",
      "    name = 'MJDSTART'; format = '100D'; unit = 'Day'\n",
      "    name = 'MJDEND'; format = '100D'; unit = 'Day'\n",
      "    name = 'WAVELENGTH'; format = '2E'; unit = 'Angstrom'\n",
      "    name = 'FLUX'; format = '200E'; unit = 'erg /s /cm**2 /Angstrom'; dim = '(2, 100)'\n",
      "    name = 'ERROR'; format = '200E'; unit = 'erg /s /cm**2 /Angstrom'; dim = '(2, 100)'\n",
      ")\n",
      "Number of time bins: 100\n",
      "Number of spectral bins: 2\n"
     ]
    }
   ],
   "source": [
    "# Print the columns in the science extension\n",
    "print(tss_data[1].columns)\n",
    "\n",
    "# Print the shape of the FLUX array\n",
    "print('Number of time bins: {}'.format(tss_data[1].data['FLUX'][0].shape[0]))\n",
    "print('Number of spectral bins: {}'.format(tss_data[1].data['FLUX'][0].shape[1]))"
   ]
  },
  {
   "cell_type": "code",
   "execution_count": null,
   "metadata": {},
   "outputs": [],
   "source": [
    "# Plot the flux vs wavelength over time\n",
    "\n"
   ]
  },
  {
   "cell_type": "markdown",
   "metadata": {},
   "source": [
    "#### Time-series Spectra Provenance Table\n",
    "Select metadata for each spectrum that contributes to the time-series product will populate a row in the provenance table. The fields in the table are metadata harvested from the headers of the contributing spectra. Some columns are only present for HST data or LCOGT data."
   ]
  },
  {
   "cell_type": "code",
   "execution_count": 28,
   "metadata": {},
   "outputs": [
    {
     "name": "stdout",
     "output_type": "stream",
     "text": [
      "ColDefs(\n",
      "    name = 'FILENAME'; format = '40A'\n",
      "    name = 'PROPOSID'; format = '32A'\n",
      "    name = 'TELESCOPE'; format = '32A'\n",
      "    name = 'INSTRUMENT'; format = '32A'\n",
      "    name = 'DETECTOR'; format = '32A'\n",
      "    name = 'FILTER'; format = '32A'\n",
      "    name = 'APERTURE'; format = '32A'\n",
      "    name = 'CAL_VER'; format = '32A'\n",
      "    name = 'MJD_BEG'; format = 'D'; unit = 'd'\n",
      "    name = 'MJD_MID'; format = 'D'; unit = 'd'\n",
      "    name = 'MJD_END'; format = 'D'; unit = 'd'\n",
      "    name = 'XPOSURE'; format = 'D'; unit = 's'\n",
      ")\n"
     ]
    }
   ],
   "source": [
    "# Print the columns in the provenance extension\n",
    "print(tss_data[2].columns)"
   ]
  },
  {
   "cell_type": "code",
   "execution_count": 27,
   "metadata": {
    "scrolled": true
   },
   "outputs": [
    {
     "name": "stdout",
     "output_type": "stream",
     "text": [
      "['coj0m405-kb88-20210307-0098-e91.fits.fz'\n",
      " 'lsc0m409-kb29-20210310-0115-e91.fits.fz'\n",
      " 'coj0m403-kb24-20210312-0079-e91.fits.fz'\n",
      " 'lsc0m409-kb29-20210314-0117-e91.fits.fz'\n",
      " 'coj0m403-kb24-20210315-0118-e91.fits.fz'\n",
      " 'coj0m403-kb24-20210316-0099-e91.fits.fz'\n",
      " 'coj0m403-kb24-20210521-0080-e91.fits.fz'\n",
      " 'coj0m403-kb24-20210521-0081-e91.fits.fz'\n",
      " 'coj0m403-kb24-20210522-0067-e91.fits.fz'\n",
      " 'coj0m403-kb24-20210522-0068-e91.fits.fz'\n",
      " 'lsc0m409-kb29-20210524-0076-e91.fits.fz'\n",
      " 'lsc0m409-kb29-20210525-0063-e91.fits.fz'\n",
      " 'lsc0m409-kb29-20210526-0061-e91.fits.fz'\n",
      " 'coj0m403-kb24-20210528-0123-e91.fits.fz'\n",
      " 'lsc0m409-kb29-20210528-0068-e91.fits.fz'\n",
      " 'lsc0m409-kb29-20210529-0126-e91.fits.fz'\n",
      " 'coj0m405-kb88-20210530-0073-e91.fits.fz'\n",
      " 'coj0m405-kb88-20210530-0074-e91.fits.fz'\n",
      " 'lsc0m409-kb29-20210530-0066-e91.fits.fz'\n",
      " 'lsc0m409-kb29-20210530-0118-e91.fits.fz'\n",
      " 'lsc0m409-kb29-20210530-0130-e91.fits.fz'\n",
      " 'lsc0m409-kb29-20210530-0136-e91.fits.fz'\n",
      " 'lsc0m409-kb29-20210530-0142-e91.fits.fz'\n",
      " 'lsc0m409-kb29-20210530-0148-e91.fits.fz'\n",
      " 'lsc0m409-kb29-20210530-0154-e91.fits.fz'\n",
      " 'lsc0m409-kb29-20210530-0160-e91.fits.fz'\n",
      " 'coj0m405-kb88-20210531-0066-e91.fits.fz'\n",
      " 'coj0m405-kb88-20210531-0067-e91.fits.fz'\n",
      " 'coj0m405-kb88-20210531-0135-e91.fits.fz'\n",
      " 'lsc0m409-kb29-20210531-0060-e91.fits.fz'\n",
      " 'lsc0m409-kb29-20210531-0095-e91.fits.fz'\n",
      " 'lsc0m409-kb29-20210601-0047-e91.fits.fz'\n",
      " 'lsc0m409-kb29-20210602-0058-e91.fits.fz'\n",
      " 'lsc0m409-kb29-20210603-0076-e91.fits.fz'\n",
      " 'lsc0m409-kb29-20210603-0077-e91.fits.fz'\n",
      " 'lsc0m409-kb29-20210604-0153-e91.fits.fz'\n",
      " 'coj0m405-kb88-20210606-0080-e91.fits.fz'\n",
      " 'coj0m405-kb88-20210607-0072-e91.fits.fz'\n",
      " 'coj0m405-kb88-20210607-0073-e91.fits.fz'\n",
      " 'lsc0m409-kb29-20210607-0062-e91.fits.fz'\n",
      " 'lsc0m409-kb29-20210721-0058-e91.fits.fz'\n",
      " 'lsc0m409-kb29-20210722-0062-e91.fits.fz'\n",
      " 'lsc0m409-kb29-20210723-0081-e91.fits.fz'\n",
      " 'lsc0m409-kb29-20210724-0058-e91.fits.fz'\n",
      " 'lsc0m409-kb29-20210725-0068-e91.fits.fz'\n",
      " 'lsc0m409-kb29-20210727-0058-e91.fits.fz'\n",
      " 'lsc0m409-kb29-20210728-0066-e91.fits.fz'\n",
      " 'lsc0m409-kb29-20210729-0073-e91.fits.fz'\n",
      " 'cpt0m407-kb87-20220430-0083-e91.fits.fz'\n",
      " 'cpt0m407-kb87-20220501-0260-e91.fits.fz'\n",
      " 'cpt0m407-kb87-20220501-0261-e91.fits.fz'\n",
      " 'cpt0m407-kb87-20220503-0060-e91.fits.fz'\n",
      " 'cpt0m407-kb87-20220504-0180-e91.fits.fz'\n",
      " 'cpt0m407-kb87-20220505-0160-e91.fits.fz'\n",
      " 'cpt0m407-kb87-20220505-0164-e91.fits.fz'\n",
      " 'cpt0m407-kb87-20220505-0170-e91.fits.fz'\n",
      " 'cpt0m407-kb87-20220505-0176-e91.fits.fz'\n",
      " 'cpt0m407-kb87-20220505-0180-e91.fits.fz'\n",
      " 'cpt0m407-kb87-20220505-0185-e91.fits.fz'\n",
      " 'cpt0m407-kb87-20220505-0190-e91.fits.fz'\n",
      " 'cpt0m407-kb87-20220505-0194-e91.fits.fz'\n",
      " 'cpt0m407-kb87-20220505-0205-e91.fits.fz'\n",
      " 'cpt0m407-kb87-20220505-0211-e91.fits.fz'\n",
      " 'cpt0m407-kb87-20220505-0213-e91.fits.fz'\n",
      " 'cpt0m407-kb87-20220505-0242-e91.fits.fz'\n",
      " 'cpt0m407-kb87-20220506-0062-e91.fits.fz'\n",
      " 'cpt0m407-kb87-20220506-0092-e91.fits.fz'\n",
      " 'cpt0m407-kb87-20220506-0102-e91.fits.fz'\n",
      " 'lsc0m412-kb26-20220506-0067-e91.fits.fz'\n",
      " 'lsc0m412-kb26-20220506-0132-e91.fits.fz'\n",
      " 'lsc0m412-kb26-20220506-0134-e91.fits.fz'\n",
      " 'lsc0m412-kb26-20220506-0140-e91.fits.fz'\n",
      " 'lsc0m412-kb26-20220506-0151-e91.fits.fz'\n",
      " 'lsc0m412-kb26-20220506-0158-e91.fits.fz'\n",
      " 'lsc0m412-kb26-20220506-0162-e91.fits.fz'\n",
      " 'lsc0m412-kb26-20220506-0179-e91.fits.fz'\n",
      " 'lsc0m412-kb26-20220506-0181-e91.fits.fz'\n",
      " 'lsc0m412-kb26-20220506-0186-e91.fits.fz'\n",
      " 'lsc0m412-kb26-20220506-0200-e91.fits.fz'\n",
      " 'lsc0m412-kb26-20220506-0204-e91.fits.fz'\n",
      " 'lsc0m412-kb26-20220506-0217-e91.fits.fz'\n",
      " 'cpt0m407-kb87-20220510-0072-e91.fits.fz'\n",
      " 'cpt0m407-kb87-20220512-0114-e91.fits.fz'\n",
      " 'cpt0m407-kb87-20220513-0075-e91.fits.fz'\n",
      " 'lsc0m412-kb26-20220515-0065-e91.fits.fz'\n",
      " 'cpt0m407-kb87-20220516-0065-e91.fits.fz'\n",
      " 'lsc0m412-kb26-20220517-0066-e91.fits.fz'\n",
      " 'lsc1m009-fa04-20220725-0005-e91.fits.fz'\n",
      " 'lsc1m009-fa04-20220725-0006-e91.fits.fz'\n",
      " 'lsc1m005-fa15-20220726-0058-e91.fits.fz'\n",
      " 'lsc1m005-fa15-20220726-0059-e91.fits.fz'\n",
      " 'lsc1m009-fa04-20220729-0066-e91.fits.fz'\n",
      " 'lsc1m009-fa04-20220729-0067-e91.fits.fz'\n",
      " 'cpt1m012-fa06-20220730-0066-e91.fits.fz'\n",
      " 'cpt1m012-fa06-20220730-0067-e91.fits.fz'\n",
      " 'lsc1m009-fa04-20220731-0058-e91.fits.fz'\n",
      " 'lsc1m009-fa04-20220731-0059-e91.fits.fz'\n",
      " 'lsc1m005-fa15-20220802-0059-e91.fits.fz'\n",
      " 'lsc1m009-fa04-20220803-0058-e91.fits.fz'\n",
      " 'lsc1m009-fa04-20220803-0059-e91.fits.fz']\n"
     ]
    }
   ],
   "source": [
    "# Print a list of the filenames used to create this data product\n",
    "print(tss_data[2].data['FILENAME'])"
   ]
  },
  {
   "cell_type": "markdown",
   "metadata": {},
   "source": [
    "<a id=\"drizzle\"></a>\n",
    "### WFC3 Drizzled Images"
   ]
  },
  {
   "cell_type": "markdown",
   "metadata": {},
   "source": [
    "#### FITS File Structure\n",
    "\n",
    "Drizzled and weight images are stored in two IMAGEHDU extensions, and PROVENANCE information stored in a BINTABLE extension:\n",
    "- a Science extension for the drizzled science image\n",
    "- a Weight extension for the weight map image\n",
    "- a matching Provenance extension to record attributes of each image that contributed to the combined product"
   ]
  },
  {
   "cell_type": "markdown",
   "metadata": {},
   "source": [
    "***"
   ]
  },
  {
   "cell_type": "markdown",
   "metadata": {},
   "source": [
    "<a id=\"examples\"></a>\n",
    "## Examples"
   ]
  },
  {
   "cell_type": "markdown",
   "metadata": {},
   "source": [
    "<a id=\"ex1\"></a>\n",
    "### Example 1"
   ]
  },
  {
   "cell_type": "markdown",
   "metadata": {},
   "source": [
    "<a id=\"ex2\"></a>\n",
    "### Example 2"
   ]
  },
  {
   "cell_type": "markdown",
   "metadata": {},
   "source": [
    "<a id=\"ex3\"></a>\n",
    "### Example 3"
   ]
  },
  {
   "cell_type": "code",
   "execution_count": null,
   "metadata": {},
   "outputs": [],
   "source": []
  },
  {
   "cell_type": "code",
   "execution_count": null,
   "metadata": {},
   "outputs": [],
   "source": []
  },
  {
   "cell_type": "markdown",
   "metadata": {},
   "source": [
    "***"
   ]
  },
  {
   "cell_type": "markdown",
   "metadata": {},
   "source": [
    "## Additional Resources\n",
    "\n",
    "This section is optional. Try to weave resource links into the main content of your tutorial so that they are falling in line with the context of your writing. For resources that do not fit cleanly into your narrative, you may include an additional resources section at the end of your tutorial. Usually a list of links using Markdown bullet list plus link format is appropriate:\n",
    "\n",
    "- [MAST API](https://mast.stsci.edu/api/v0/index.html)\n",
    "- [Kepler Archive Page (MAST)](https://archive.stsci.edu/kepler/)\n",
    "- [Kepler Archive Manual](https://archive.stsci.edu/kepler/manuals/archive_manual.pdf)\n",
    "- [Exo.MAST website](https://exo.mast.stsci.edu/)"
   ]
  },
  {
   "cell_type": "markdown",
   "metadata": {
    "slideshow": {
     "slide_type": "slide"
    }
   },
   "source": [
    "## About this Notebook\n",
    "Let the world know who the author of this great tutorial is! If possible and appropriate, include a contact email address for users who might need support (for example, `archive@stsci.edu`). You can also optionally include keywords, your funding source, or a last update date in this section.\n",
    "\n",
    "**Author:** Jessie Blogs, Archive Scientist.  \n",
    "**Updated On:** YYYY-MM-DD"
   ]
  },
  {
   "cell_type": "markdown",
   "metadata": {},
   "source": [
    "## Citations\n",
    "Provide your reader with guidelines on how to cite open source software and other resources in their own published work.\n",
    "\n",
    "```\n",
    "If you use `astropy` or `lightkurve` for published research, please cite the\n",
    "authors. Follow these links for more information about citing `astropy` and\n",
    "`lightkurve`:\n",
    "\n",
    "* [Citing `astropy`](https://www.astropy.org/acknowledging.html)\n",
    "* [Citing `lightkurve`](http://docs.lightkurve.org/about/citing.html)\n",
    "\n",
    "```"
   ]
  },
  {
   "cell_type": "markdown",
   "metadata": {},
   "source": [
    "***"
   ]
  },
  {
   "cell_type": "markdown",
   "metadata": {},
   "source": [
    "[Top of Page](#top)\n",
    "<img style=\"float: right;\" src=\"https://raw.githubusercontent.com/spacetelescope/notebooks/master/assets/stsci_pri_combo_mark_horizonal_white_bkgd.png\" alt=\"Space Telescope Logo\" width=\"200px\"/> "
   ]
  }
 ],
 "metadata": {
  "kernelspec": {
   "display_name": "Python 3 (ipykernel)",
   "language": "python",
   "name": "python3"
  },
  "language_info": {
   "codemirror_mode": {
    "name": "ipython",
    "version": 3
   },
   "file_extension": ".py",
   "mimetype": "text/x-python",
   "name": "python",
   "nbconvert_exporter": "python",
   "pygments_lexer": "ipython3",
   "version": "3.8.18"
  }
 },
 "nbformat": 4,
 "nbformat_minor": 4
}
