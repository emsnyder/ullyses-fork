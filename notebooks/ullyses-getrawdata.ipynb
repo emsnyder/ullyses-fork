{
 "cells": [
  {
   "cell_type": "markdown",
   "metadata": {
    "slideshow": {
     "slide_type": "slide"
    }
   },
   "source": [
    "<a id=\"top\"></a>\n",
    "# ULLYSES Data Download Tutorial"
   ]
  },
  {
   "cell_type": "markdown",
   "metadata": {
    "slideshow": {
     "slide_type": "skip"
    }
   },
   "source": [
    "***"
   ]
  },
  {
   "cell_type": "markdown",
   "metadata": {},
   "source": [
    "## Learning Goals\n",
    "\n",
    "By the end of this tutorial, you will:\n",
    "\n",
    "- Know how to use Astroquery to download ULLYSES HLSPs\n",
    "- Be able to use ullyses-utils.select_pids to get PIDs for desired subsets of ULLYSES programs, and know how to download those datasets\n",
    "- Understand where to find and how to download the files that went into a ULLYSES HLSP\n"
   ]
  },
  {
   "cell_type": "markdown",
   "metadata": {},
   "source": [
    "## Table of Contents\n",
    "**0. [Introduction](#introduction)**\n",
    "\n",
    "**1. [Downloading HLSP Files Using Astroquery](#astroquery)**\n",
    "\n",
    "**2. [Using ullyses_utils.select_pids](#selectpids)**\n",
    "\n",
    "**3. [Downloading HLSP Constiuent Raw Data Files](#constiuent)**"
   ]
  },
  {
   "cell_type": "markdown",
   "metadata": {
    "slideshow": {
     "slide_type": "slide"
    }
   },
   "source": [
    "## Introduction\n",
    "The Hubble Space Telescope’s (HST) Ultraviolet Legacy Library of Young Stars as Essential Standards ([ULLYSES](https://ullyses.stsci.edu/index.html) program has devoted approximately 1,000 HST orbits to the production of an ultraviolet spectroscopic library of young high- and low-mass stars in the local universe. This Director’s Discretionary program has been designed to take advantage of HST’s unique UV capabilities, as both high- and low-mass stars feature different complex UV emission processes that strongly impact their surroundings, but are difficult to model. The UV emission from star formation is central to a wide range of vital astrophysical issues, ranging from cosmic reionization to the formation of planets.\n",
    "\n",
    "The ULLYSES program has uniformly sampled the fundamental astrophysical parameter space for each mass regime — including spectral type, luminosity class, and metallicity for massive OB stars (in the Magellanic Clouds and two other lower-metallicity nearby galaxies) and the mass, age, and disk accretion rate for low-mass T Tauri stars (in eight young Galactic associations). The data were gathered over a three-year period, from Cycle 27 through Cycle 29 (2020-2022).\n",
    "\n",
    "The ULLYSES team produces several types of High Level Science Products (HLSPs). Products are made using both archival data and new HST observations obtained through the ULLYSES program. Data products are available from the [ULLYSES website](https://ullyses.stsci.edu/ullyses-download.html) (HLSPs and contributing data), the [MAST Data Discovery Portal](https://mast.stsci.edu/) (HLSPs and contributing data), directly as a High-Level Science Product collection using the [DOI](https://archive.stsci.edu/hlsp/ullyses) (HLSPs only), or using the Python package [Astroquery](https://astroquery.readthedocs.io/en/latest/) to search for and download files from Python scripts you write.\n",
    "\n",
    "This notebook will guide users through downloading HLSPs and raw ULLYSES data through various means using Astroquery."
   ]
  },
  {
   "cell_type": "markdown",
   "metadata": {
    "slideshow": {
     "slide_type": "slide"
    }
   },
   "source": [
    "### Imports\n",
    "<!-- - *numpy* to handle array functions\n",
    "- *astropy.io fits* for accessing FITS files -->\n",
    "- *astropy.table Table* for creating tidy tables of the data\n",
    "<!-- - *matplotlib.pyplot* for plotting data -->\n",
    "- *Path* to create product and data directories\n",
    "- *shutil* to perform directory and file operations\n",
    "- *glob* to work with multiple files in our directories\n",
    "<!-- - *os* to interact with the operating system -->\n",
    "<!-- - *pandas* to support data analysis -->\n",
    "- *astroquery* to download HLSPs and raw data files"
   ]
  },
  {
   "cell_type": "code",
   "execution_count": 117,
   "metadata": {
    "slideshow": {
     "slide_type": "fragment"
    }
   },
   "outputs": [],
   "source": [
    "# %matplotlib inline\n",
    "# import numpy as np\n",
    "# from astropy.io import fits\n",
    "# from astropy.wcs import WCS\n",
    "from astropy.table import Table\n",
    "# import matplotlib.pyplot as plt\n",
    "# plt.rcParams['figure.figsize']=10,6\n",
    "# plt.style.use('seaborn-v0_8-notebook')\n",
    "# import os\n",
    "# from pathlib import Path\n",
    "import shutil\n",
    "import glob\n",
    "from astroquery.mast import Observations\n",
    "\n",
    "# add some text to intro about how to install ullyses and ullyses utils!!\n",
    "\n",
    "from ullyses_utils.select_pids import select_all_pids, select_pids"
   ]
  },
  {
   "cell_type": "markdown",
   "metadata": {},
   "source": [
    "***"
   ]
  },
  {
   "cell_type": "markdown",
   "metadata": {},
   "source": [
    "<a id=\"astroquery\"></a>\n",
    "# Downloading HLSP Files Using Astroquery"
   ]
  },
  {
   "cell_type": "markdown",
   "metadata": {},
   "source": [
    "The `Observations` Class in Astroquery.mast has several different useful functions for searching and downloading data products from MAST. We can use the `query_criteria` function to first search out all ULLYSES HLSP data that is available on MAST using the search criteria `provenance_name='ULLYSES'` as follows:"
   ]
  },
  {
   "cell_type": "code",
   "execution_count": 114,
   "metadata": {},
   "outputs": [],
   "source": [
    "search = Observations.query_criteria(provenance_name='ULLYSES')"
   ]
  },
  {
   "cell_type": "markdown",
   "metadata": {},
   "source": [
    "The above cell returns `search` which is an Astropy.Table that holds our search results. We can print the results next:"
   ]
  },
  {
   "cell_type": "code",
   "execution_count": 115,
   "metadata": {
    "scrolled": true
   },
   "outputs": [
    {
     "name": "stdout",
     "output_type": "stream",
     "text": [
      "                 instrument_name                                filters                     target_name              s_ra               s_dec                  proposal_id          \n",
      "-------------------------------------------------- ---------------------------------- ----------------------- ------------------ ------------------- -------------------------------\n",
      "                                           COS/FUV                        G130M;G160M                2DFS-163       9.2426666667      -73.3925519167                           16100\n",
      "                                           COS/FUV                        G130M;G160M               2DFS-2266      16.8094758333      -72.2298698889                           16370\n",
      "                           COS/FUV | STIS/FUV-MAMA                        E140M;G130M               2DFS-2553        17.34146875      -73.2616487222                     15629_16803\n",
      "                                           COS/FUV                        G130M;G160M               2DFS-3689      21.1322654167      -73.3636851944                           16373\n",
      "                                           COS/FUV                        G130M;G160M               2DFS-3694      21.1435383333      -73.1524739444                           16101\n",
      "                           COS/FUV | STIS/FUV-MAMA                        E140M;G130M               2DFS-3780      21.6470383333      -73.2545277222                           16809\n",
      "                                           COS/FUV                        G130M;G160M               2DFS-3947        22.65494125      -73.4206643056                           16373\n",
      "                                           COS/FUV                        G130M;G160M               2DFS-3954      22.6796166667      -73.4178175278                           16370\n",
      "                                           COS/FUV                              G160M               2DFS-5066      13.3035416667      -72.6166555556                           15837\n",
      "                                     COS/FUV | FUV                        G130M;G160M                2DFS-999      13.6339920833          -72.743233                      16370_G039\n",
      "                           COS/FUV | STIS/NUV-MAMA                  E230M;G130M;G160M 2MASS-J04390163+2336029  69.75681960086999  23.600790274128336                           11616\n",
      "                                           COS/FUV                              G130M 2MASS-J15570234-1950419     239.2597229231     -19.84513046713                           15310\n",
      "                          STIS/CCD | STIS/NUV-MAMA                  G230L;G430L;G750L  2MASSJ04383885+1546045        69.66188501         15.76792325                           16593\n",
      "COS/FUV | SBIG-STL-6303 | STIS/CCD | STIS/NUV-MAMA G130M;G160M;G230L;G430L;G750L;V;ip  2MASSJ11432669-7804454     175.8612083333      -78.0792777778              DDT2021A-001_16481\n",
      "               FUV | STIS/FUV-MAMA | STIS/NUV-MAMA                        E140M;E230M                   AV104      12.9101270833      -72.8016946667                       9116_D162\n",
      "                     COS/NUV | FUV | STIS/FUV-MAMA                        E140M;G185M                    AV14      11.6359458333           -73.10157                13004_15629_P117\n",
      "                                           COS/FUV                        G130M;G160M                   AV148      13.4259783333      -72.7098053333                     11625_16372\n",
      "                               FUV | STIS/FUV-MAMA                              E140M                    AV15 11.675670416700001      -73.4154201944                       7437_P115\n",
      "                               FUV | STIS/FUV-MAMA                              E140M                    AV16        11.72930125      -73.1428215833                      14712_E511\n",
      "                               FUV | STIS/FUV-MAMA                              E140M                   AV170           13.92675      -73.2918111111                       7437_P217\n",
      "                                               ...                                ...                     ...                ...                 ...                             ...\n",
      "COS/FUV | SBIG-STL-6303 | STIS/CCD | STIS/NUV-MAMA G130M;G160M;G230L;G430L;G750L;V;ip                V-XX-CHA     167.9152083333      -76.3375555556              DDT2021A-001_16481\n",
      "COS/FUV | SBIG-STL-6303 | STIS/CCD | STIS/NUV-MAMA             G230L;G430L;G750L;V;ip                V505-ORI      84.6135833333       -2.7526944444 16113_DDT2020B-001_DDT2021A-001\n",
      "COS/FUV | SBIG-STL-6303 | STIS/CCD | STIS/NUV-MAMA G130M;G160M;G230L;G430L;G750L;V;ip                V510-ORI      84.9159583333 -2.5227500000000003 16113_DDT2020B-001_DDT2021A-001\n",
      "                                           COS/FUV                        G130M;G160M                VFTS-169        84.45801125      -69.1744088889                           16810\n",
      "                                           COS/FUV                        G130M;G160M                VFTS-190      84.4720758333      -69.2158960556                           16818\n",
      "                                           COS/FUV                        G130M;G160M                VFTS-267         84.5581925      -69.1299223333                           16369\n",
      "                                           COS/FUV                        G130M;G160M                VFTS-355      84.6214633333        -68.96092125                           16814\n",
      "                                           COS/FUV                        G130M;G160M                VFTS-404          84.640975      -69.1658510278                           16369\n",
      "                                           COS/FUV                        G130M;G160M                VFTS-406           84.64157          -69.072533                           16815\n",
      "                                           COS/FUV                        G130M;G160M                VFTS-482      84.6679166667      -69.0998888889                           16093\n",
      "                                           COS/FUV                        G130M;G160M                VFTS-506        84.67315125      -69.0887461111                           16810\n",
      "                                           COS/FUV                        G130M;G160M                VFTS-542           84.67965          -69.096329                           16812\n",
      "                                           COS/FUV                        G130M;G160M                 VFTS-66      84.3878870833          -69.076202                           16096\n",
      "                                           COS/FUV                        G130M;G160M                 VFTS352      84.6185833333      -69.1886472222                           13806\n",
      "                                     STIS/FUV-MAMA                              E140M                 VFTS440      84.6571666667      -69.0891583333                           15629\n",
      "                                           COS/FUV                        G130M;G160M                 VFTS586      84.6891466667      -69.0476217778                           16814\n",
      "                     COS/FUV | FUV | STIS/NUV-MAMA                  E230M;G130M;G160M                  VFTS72      84.3935983333      -69.0194908333                      14675_C002\n",
      "                                     STIS/FUV-MAMA                              E140M                  VFTS87           84.40275      -69.1255083333                           15629\n",
      "                                           COS/FUV                        G130M;G160M               W61-28-23        83.70899875      -69.7757061944                           16369\n",
      "                                           COS/FUV                        G130M;G160M                W61-28-5        83.61862625      -69.7324519167                           16093\n",
      "Length = 410 rows\n"
     ]
    }
   ],
   "source": [
    "# This down-selects the number of columns printed to just a few, which makes it easier to read\n",
    "search.pprint_include_names = ('target_name', 's_ra', 's_dec', 'proposal_id', 'instrument_name', 'filters')\n",
    "\n",
    "search.pprint()\n",
    "\n",
    "# To print all columns use:\n",
    "# search.pprint_all()\n",
    "\n",
    "# Or to print a single column use:\n",
    "# search['target_name'].pprint()"
   ]
  },
  {
   "cell_type": "markdown",
   "metadata": {},
   "source": [
    "As you can see, there are several results returned for the initial search. We can down-select our search by adding the name of the target we want, using the criteria `target_name='V505-ORI'`."
   ]
  },
  {
   "cell_type": "code",
   "execution_count": 116,
   "metadata": {},
   "outputs": [],
   "source": [
    "search_target = Observations.query_criteria(target_name='V505-ORI', provenance_name='ULLYSES')"
   ]
  },
  {
   "cell_type": "markdown",
   "metadata": {},
   "source": [
    "Next, we use the function `get_product_list` with the input of the observation IDs that are returned from the query in the previous cell to get a table of all the data products that are available in MAST for these observations."
   ]
  },
  {
   "cell_type": "code",
   "execution_count": 125,
   "metadata": {
    "scrolled": true
   },
   "outputs": [
    {
     "name": "stdout",
     "output_type": "stream",
     "text": [
      "                        productFilename                        \n",
      "---------------------------------------------------------------\n",
      "hlsp_ullyses_hst_cos-stis_v505-ori_uv-opt_dr6_preview-spec.fits\n",
      "       hlsp_ullyses_hst_cos_v505-ori_g130m-g160m_dr6_cspec.fits\n",
      "             hlsp_ullyses_hst_cos_v505-ori_g130m_dr6_cspec.fits\n",
      "             hlsp_ullyses_hst_cos_v505-ori_g160m_dr6_cspec.fits\n",
      "hlsp_ullyses_hst_stis_v505-ori_g230l-g430l-g750l_dr6_cspec.fits\n",
      "            hlsp_ullyses_hst_stis_v505-ori_g230l_dr6_cspec.fits\n",
      "             hlsp_ullyses_hst_stis_v505-ori_g230l_dr6_spec.fits\n",
      "             hlsp_ullyses_hst_stis_v505-ori_g230l_dr6_spec.yaml\n",
      "            hlsp_ullyses_hst_stis_v505-ori_g430l_dr6_cspec.fits\n",
      "             hlsp_ullyses_hst_stis_v505-ori_g430l_dr6_spec.fits\n",
      "             hlsp_ullyses_hst_stis_v505-ori_g430l_dr6_spec.yaml\n",
      "            hlsp_ullyses_hst_stis_v505-ori_g750l_dr6_cspec.fits\n",
      "             hlsp_ullyses_hst_stis_v505-ori_g750l_dr6_spec.fits\n",
      "             hlsp_ullyses_hst_stis_v505-ori_g750l_dr6_spec.yaml\n",
      "             hlsp_ullyses_hst_stis_v505-ori_g230l_dr6_spec.yaml\n",
      "              hlsp_ullyses_hst_stis_v505-ori_g230l_dr6_tss.fits\n",
      "             hlsp_ullyses_hst_stis_v505-ori_g430l_dr6_spec.yaml\n",
      "              hlsp_ullyses_hst_stis_v505-ori_g430l_dr6_tss.fits\n",
      "             hlsp_ullyses_hst_stis_v505-ori_g750l_dr6_spec.yaml\n",
      "              hlsp_ullyses_hst_stis_v505-ori_g750l_dr6_tss.fits\n",
      "                                                            ...\n",
      "                                             oe9i3s020_sx2.fits\n",
      "                                             oe9i3s030_asn.fits\n",
      "                                             oe9i3s030_crj.fits\n",
      "                                             oe9i3sg7j_epc.fits\n",
      "                                             oe9i3sg8j_epc.fits\n",
      "                                             oe9i3sg9j_epc.fits\n",
      "                                             oe9i3s030_jif.fits\n",
      "                                             oe9i3s030_jit.fits\n",
      "                                             oe9i3s030_jwf.fits\n",
      "                                             oe9i3s030_jwt.fits\n",
      "                                             oe9i3s030_spt.fits\n",
      "                                             oe9i3s030_trl.fits\n",
      "                                             oe9i3s030_wav.fits\n",
      "                                             oe9i3s030_wsp.fits\n",
      "                                              oe9i3s030_log.txt\n",
      "                                              oe9i3s030_sx1.png\n",
      "                                             oe9i3s030_flt.fits\n",
      "                                             oe9i3s030_raw.fits\n",
      "                                             oe9i3s030_sx1.fits\n",
      "                                             oe9i3s030_sx2.fits\n",
      "Length = 214 rows\n"
     ]
    }
   ],
   "source": [
    "data_products = Observations.get_product_list(search_target['obsid'])\n",
    "print(data_products['productFilename'])"
   ]
  },
  {
   "cell_type": "markdown",
   "metadata": {},
   "source": [
    "Then, we can use the function `download_products` to download all the files from our search. The user can specify where to download the data products with `download_dir`. Note that we specify `extension=['fits']`; there are also `yaml` files that may be downloaded. You can add those by adding 'yaml' to the extension list. Note also that we must specify `obs_collection=['HLSP']` so that we only get the high level science products, and not the constiuent data. If you want both, you can delete the `obs_collection` specification altogether. "
   ]
  },
  {
   "cell_type": "code",
   "execution_count": 144,
   "metadata": {
    "scrolled": true
   },
   "outputs": [
    {
     "name": "stdout",
     "output_type": "stream",
     "text": [
      "Downloading URL https://mast.stsci.edu/api/v0.1/Download/file?uri=mast:HLSP/ullyses/ngc1818-rob-d1/dr6/hlsp_ullyses_hst_cos_ngc1818-rob-d1_g130m-g160m-g185m_dr6_cspec.fits to ./v505-ori/mastDownload/HLSP/hlsp_ullyses_hst_cos_ngc1818-rob-d1_g130m-g160m-g185m/hlsp_ullyses_hst_cos_ngc1818-rob-d1_g130m-g160m-g185m_dr6_cspec.fits ... [Done]\n",
      "Downloading URL https://mast.stsci.edu/api/v0.1/Download/file?uri=mast:HLSP/ullyses/ngc1818-rob-d1/dr6/hlsp_ullyses_hst_cos_ngc1818-rob-d1_g130m_dr6_cspec.fits to ./v505-ori/mastDownload/HLSP/hlsp_ullyses_hst_cos_ngc1818-rob-d1_g130m-g160m-g185m/hlsp_ullyses_hst_cos_ngc1818-rob-d1_g130m_dr6_cspec.fits ... [Done]\n",
      "Downloading URL https://mast.stsci.edu/api/v0.1/Download/file?uri=mast:HLSP/ullyses/ngc1818-rob-d1/dr6/hlsp_ullyses_hst_cos_ngc1818-rob-d1_g160m_dr6_cspec.fits to ./v505-ori/mastDownload/HLSP/hlsp_ullyses_hst_cos_ngc1818-rob-d1_g130m-g160m-g185m/hlsp_ullyses_hst_cos_ngc1818-rob-d1_g160m_dr6_cspec.fits ... [Done]\n",
      "Downloading URL https://mast.stsci.edu/api/v0.1/Download/file?uri=mast:HLSP/ullyses/ngc1818-rob-d1/dr6/hlsp_ullyses_hst_cos_ngc1818-rob-d1_g185m_dr6_cspec.fits to ./v505-ori/mastDownload/HLSP/hlsp_ullyses_hst_cos_ngc1818-rob-d1_g130m-g160m-g185m/hlsp_ullyses_hst_cos_ngc1818-rob-d1_g185m_dr6_cspec.fits ... [Done]\n",
      "Downloading URL https://mast.stsci.edu/api/v0.1/Download/file?uri=mast:HLSP/ullyses/ngc1818-rob-d1/dr6/hlsp_ullyses_hst_cos_ngc1818-rob-d1_g225m_dr6_cspec.fits to ./v505-ori/mastDownload/HLSP/hlsp_ullyses_hst_cos_ngc1818-rob-d1_g130m-g160m-g185m/hlsp_ullyses_hst_cos_ngc1818-rob-d1_g225m_dr6_cspec.fits ... [Done]\n"
     ]
    },
    {
     "data": {
      "text/html": [
       "<div><i>Table length=5</i>\n",
       "<table id=\"table140562785261408\" class=\"table-striped table-bordered table-condensed\">\n",
       "<thead><tr><th>Local Path</th><th>Status</th><th>Message</th><th>URL</th></tr></thead>\n",
       "<thead><tr><th>str151</th><th>str8</th><th>object</th><th>object</th></tr></thead>\n",
       "<tr><td>./v505-ori/mastDownload/HLSP/hlsp_ullyses_hst_cos_ngc1818-rob-d1_g130m-g160m-g185m/hlsp_ullyses_hst_cos_ngc1818-rob-d1_g130m-g160m-g185m_dr6_cspec.fits</td><td>COMPLETE</td><td>None</td><td>None</td></tr>\n",
       "<tr><td>./v505-ori/mastDownload/HLSP/hlsp_ullyses_hst_cos_ngc1818-rob-d1_g130m-g160m-g185m/hlsp_ullyses_hst_cos_ngc1818-rob-d1_g130m_dr6_cspec.fits</td><td>COMPLETE</td><td>None</td><td>None</td></tr>\n",
       "<tr><td>./v505-ori/mastDownload/HLSP/hlsp_ullyses_hst_cos_ngc1818-rob-d1_g130m-g160m-g185m/hlsp_ullyses_hst_cos_ngc1818-rob-d1_g160m_dr6_cspec.fits</td><td>COMPLETE</td><td>None</td><td>None</td></tr>\n",
       "<tr><td>./v505-ori/mastDownload/HLSP/hlsp_ullyses_hst_cos_ngc1818-rob-d1_g130m-g160m-g185m/hlsp_ullyses_hst_cos_ngc1818-rob-d1_g185m_dr6_cspec.fits</td><td>COMPLETE</td><td>None</td><td>None</td></tr>\n",
       "<tr><td>./v505-ori/mastDownload/HLSP/hlsp_ullyses_hst_cos_ngc1818-rob-d1_g130m-g160m-g185m/hlsp_ullyses_hst_cos_ngc1818-rob-d1_g225m_dr6_cspec.fits</td><td>COMPLETE</td><td>None</td><td>None</td></tr>\n",
       "</table></div>"
      ],
      "text/plain": [
       "<Table length=5>\n",
       "                                                                       Local Path                                                                        Status  Message  URL  \n",
       "                                                                         str151                                                                           str8    object object\n",
       "------------------------------------------------------------------------------------------------------------------------------------------------------- -------- ------- ------\n",
       "./v505-ori/mastDownload/HLSP/hlsp_ullyses_hst_cos_ngc1818-rob-d1_g130m-g160m-g185m/hlsp_ullyses_hst_cos_ngc1818-rob-d1_g130m-g160m-g185m_dr6_cspec.fits COMPLETE    None   None\n",
       "            ./v505-ori/mastDownload/HLSP/hlsp_ullyses_hst_cos_ngc1818-rob-d1_g130m-g160m-g185m/hlsp_ullyses_hst_cos_ngc1818-rob-d1_g130m_dr6_cspec.fits COMPLETE    None   None\n",
       "            ./v505-ori/mastDownload/HLSP/hlsp_ullyses_hst_cos_ngc1818-rob-d1_g130m-g160m-g185m/hlsp_ullyses_hst_cos_ngc1818-rob-d1_g160m_dr6_cspec.fits COMPLETE    None   None\n",
       "            ./v505-ori/mastDownload/HLSP/hlsp_ullyses_hst_cos_ngc1818-rob-d1_g130m-g160m-g185m/hlsp_ullyses_hst_cos_ngc1818-rob-d1_g185m_dr6_cspec.fits COMPLETE    None   None\n",
       "            ./v505-ori/mastDownload/HLSP/hlsp_ullyses_hst_cos_ngc1818-rob-d1_g130m-g160m-g185m/hlsp_ullyses_hst_cos_ngc1818-rob-d1_g225m_dr6_cspec.fits COMPLETE    None   None"
      ]
     },
     "execution_count": 144,
     "metadata": {},
     "output_type": "execute_result"
    }
   ],
   "source": [
    "output_dir = './v505-ori/'\n",
    "Observations.download_products(data_products, download_dir=output_dir, extension=['fits'], obs_collection=['HLSP'])"
   ]
  },
  {
   "cell_type": "markdown",
   "metadata": {},
   "source": [
    "All ULLYSES HLSP data products are now downloaded to your `download_dir` in the sub-directories starting with `mastDownload`. We can move these into a better folder structure using the following function."
   ]
  },
  {
   "cell_type": "code",
   "execution_count": 149,
   "metadata": {},
   "outputs": [],
   "source": [
    "def mv_downloads(output_path):\n",
    "    # Specify the path to where the downloads were placed\n",
    "    mast_path = os.path.join(output_path, 'mastDownload/')\n",
    "    \n",
    "    # Get a list of all obs_id folders. Each folder contains the FITS files\n",
    "    obs_id_dirs = glob.glob(os.path.join(mast_path, '*', '*'))\n",
    "    \n",
    "    # Iterate through each of the sub-folders to change the path of each FITS file\n",
    "    for subdir in obs_id_dirs: \n",
    "    \n",
    "        # Get a list of all FITS files in the current ./mastDownload/*/<obs_id> folder\n",
    "        sub_files = glob.glob(subdir + '/*fits')\n",
    "    \n",
    "        # Iterating through each of these files to change their path individually:\n",
    "        # We will be moving them to the top level, ./v505-ori/ in this example\n",
    "        for file in sub_files: \n",
    "            original_path = os.path.join(obs_id_path, file)\n",
    "            new_path = os.path.join(output_path, file.split('/')[-1])\n",
    "            shutil.move(file, new_path)\n",
    "    \n",
    "    # Last, remove the mastDownload directory\n",
    "    shutil.rmtree(os.path.join(output_path, 'mastDownload/'))\n",
    "\n",
    "mv_downloads(output_dir)"
   ]
  },
  {
   "cell_type": "markdown",
   "metadata": {},
   "source": [
    "Now, all your HLSP files should be nice and tidy in your output directory!"
   ]
  },
  {
   "cell_type": "markdown",
   "metadata": {},
   "source": [
    "<a id=\"selectpids\"></a>\n",
    "# Using ullyses_utils.select_pids"
   ]
  },
  {
   "cell_type": "markdown",
   "metadata": {},
   "source": [
    "The `select_pids` script in `ullyses_utils` has two functions that allow users to select the PIDS of both ULLYSES-orbserved and archival datasets for specific sub-sets of data. For example, one can select a specific region or target type. We will show some examples of these selections next.\n",
    "\n",
    "The function `select_all_pids()` is useful for selecting out different target types across many regions. We can see more information in the functions docstring by typing the following:"
   ]
  },
  {
   "cell_type": "code",
   "execution_count": 7,
   "metadata": {},
   "outputs": [
    {
     "data": {
      "text/plain": [
       "\u001b[0;31mSignature:\u001b[0m\n",
       "\u001b[0mselect_all_pids\u001b[0m\u001b[0;34m(\u001b[0m\u001b[0;34m\u001b[0m\n",
       "\u001b[0;34m\u001b[0m    \u001b[0mmassive\u001b[0m\u001b[0;34m=\u001b[0m\u001b[0;32mFalse\u001b[0m\u001b[0;34m,\u001b[0m\u001b[0;34m\u001b[0m\n",
       "\u001b[0;34m\u001b[0m    \u001b[0mtts\u001b[0m\u001b[0;34m=\u001b[0m\u001b[0;32mFalse\u001b[0m\u001b[0;34m,\u001b[0m\u001b[0;34m\u001b[0m\n",
       "\u001b[0;34m\u001b[0m    \u001b[0mextra\u001b[0m\u001b[0;34m=\u001b[0m\u001b[0;32mTrue\u001b[0m\u001b[0;34m,\u001b[0m\u001b[0;34m\u001b[0m\n",
       "\u001b[0;34m\u001b[0m    \u001b[0mmonitoring\u001b[0m\u001b[0;34m=\u001b[0m\u001b[0;32mTrue\u001b[0m\u001b[0;34m,\u001b[0m\u001b[0;34m\u001b[0m\n",
       "\u001b[0;34m\u001b[0m    \u001b[0msingle_list\u001b[0m\u001b[0;34m=\u001b[0m\u001b[0;32mTrue\u001b[0m\u001b[0;34m,\u001b[0m\u001b[0;34m\u001b[0m\n",
       "\u001b[0;34m\u001b[0m\u001b[0;34m)\u001b[0m\u001b[0;34m\u001b[0m\u001b[0;34m\u001b[0m\u001b[0m\n",
       "\u001b[0;31mDocstring:\u001b[0m\n",
       "Use this function if you want to select more than one region's PIDs at once.\n",
       "The logic behind writing this is:\n",
       "1) if you want massive stars (LMC, SMC, lowz), specify massive=True. If you\n",
       "do not want the \"extra\" stars included in the ULLYSES sample (i.e. stars\n",
       "that were added after the original sample was created to fill the\n",
       "luminosity/class bins), then specify extra=False.\n",
       "  -> Original sample + Extra sample: pids = select_all_pids(massive=True)\n",
       "  -> Original sample only: pids = select_all_pids(massive=True, extra=False)\n",
       "2) if you want all regions of the t-tauri star sample, including the monitoring\n",
       "stars, specify tts=True. If you do not want the monitoring stars in the sample\n",
       "then specify monitoring=False.\n",
       "  -> All TTS: pids = select_all_pids(tts=True)\n",
       "  -> All TTS but the monitoring: pids = select_all_pids(tts=True, monitoring=False)\n",
       "3) You want the entire sample of everything.\n",
       "  -> pids = select_all_pids()\n",
       "4) If you want some combination of massive stars without the extra sample\n",
       "*and* the TTS without the monitoring (or some combination), you can specify\n",
       "a combination of the above keywords. For example:\n",
       "  -> pids = select_all_pids(massive=True, tts=True, extra=False)\n",
       "There is an additional keyword \"single_list\" that is set to True by default,\n",
       "which means you get a list of PIDs for both ULLYSES observed and archival\n",
       "datasets. If you would like those separated out, specify single_list=False,\n",
       "and the function will return a dictionary with the two lists separated out\n",
       "with the keys \"ULLYSES\" and \"ARCHIVAL\".\n",
       "\n",
       "Inputs\n",
       "-------\n",
       "massive : Boolean (default=False)\n",
       "    Get massive stars (LMC, SMC, & Low-Z)\n",
       "tts : Boolean (default=False)\n",
       "    Get all t-tauri stars\n",
       "extra : Boolean (default=True)\n",
       "    should be used exclusively with \"massive\". Use to get the stars not\n",
       "    originally included in the core ULLYSES sample.\n",
       "monitoring : Boolean (default=True)\n",
       "    should be used exclusively with \"tts\". Use to get the monitoring stars.\n",
       "single_list : Boolean (default=True)\n",
       "    By default, return both ULLYSES observed and archival samples together.\n",
       "    If False, this will return a dictionary instead with the two lists of\n",
       "    PIDs separated out under the keys \"ULLYSES\" and \"ARCHIVAL\"\n",
       "\n",
       "Outputs\n",
       "-------\n",
       "all_pids : list (single_list=True) or dict (single_list=False)\n",
       "\u001b[0;31mFile:\u001b[0m      ~/miniconda3/envs/ullyses/lib/python3.8/site-packages/ullyses_utils-0.0.1-py3.8.egg/ullyses_utils/select_pids.py\n",
       "\u001b[0;31mType:\u001b[0m      function"
      ]
     },
     "metadata": {},
     "output_type": "display_data"
    }
   ],
   "source": [
    "select_all_pids?"
   ]
  },
  {
   "cell_type": "markdown",
   "metadata": {},
   "source": [
    "The function `select_pids` gives all the PIDs of a certain region regardless of target type. See the options in the docstring below:"
   ]
  },
  {
   "cell_type": "code",
   "execution_count": 8,
   "metadata": {},
   "outputs": [
    {
     "data": {
      "text/plain": [
       "\u001b[0;31mSignature:\u001b[0m \u001b[0mselect_pids\u001b[0m\u001b[0;34m(\u001b[0m\u001b[0mselected_region\u001b[0m\u001b[0;34m,\u001b[0m \u001b[0msingle_list\u001b[0m\u001b[0;34m=\u001b[0m\u001b[0;32mTrue\u001b[0m\u001b[0;34m)\u001b[0m\u001b[0;34m\u001b[0m\u001b[0;34m\u001b[0m\u001b[0m\n",
       "\u001b[0;31mDocstring:\u001b[0m\n",
       "This function returns pids given a region. \"Extra\" regions are separated\n",
       "out as these include datasets that were not originally in the ULLYSES sample.\n",
       "The TTS regions are separated by their host cluster. Low metallicity stars\n",
       "are separated by imaging and spectroscopic observations.\n",
       "\n",
       "Inputs\n",
       "------\n",
       "selected_region : str\n",
       "    Accepted regions:\n",
       "      - \"smc-extra\", \"smc\", \"lmc-extra\", \"lmc\",\n",
       "        \"lowz-extra\", \"lowz-image\", \"lowz\",\n",
       "        \"monitoring_tts\",\n",
       "        \"cha i\", \"cra\", \"eps cha\", \"eta cha\", \"lupus\", \"ori ob\", \"sigma ori\",\n",
       "          \"taurus\", \"twa\", \"lower centaurus\", \"upper scorpius\", \"other\", \"lambda ori\"\n",
       "single_list : Boolean\n",
       "  True by default. If true, a list of pids for the specified region is returned.\n",
       "  If false, two lists of pids are returned; one is only the ULLYSES observed\n",
       "  PIDs (those the team made Phase 2s for from 2020-2023), and then other is\n",
       "  only the archival data used in the HLSP creation and delivered to MAST.\n",
       "\n",
       "Outputs\n",
       "-------\n",
       "if single_list = True --\n",
       "    ull_pids + ar_pids : list\n",
       "      combined ULLYSES observed PIDs and archival data. ULLYSES observed\n",
       "      PIDs are first.\n",
       "if single_list == False --\n",
       "    ull_pids : list\n",
       "      ULLYSES observed PIDs (those the team made Phase 2s for from 2020-2023)\n",
       "    ar_pids : list\n",
       "      archival observed PIDs (used in the HLSP creation)\n",
       "\u001b[0;31mFile:\u001b[0m      ~/miniconda3/envs/ullyses/lib/python3.8/site-packages/ullyses_utils-0.0.1-py3.8.egg/ullyses_utils/select_pids.py\n",
       "\u001b[0;31mType:\u001b[0m      function"
      ]
     },
     "metadata": {},
     "output_type": "display_data"
    }
   ],
   "source": [
    "select_pids?"
   ]
  },
  {
   "cell_type": "markdown",
   "metadata": {},
   "source": [
    "Example 1: select all ULLYSES PIDs"
   ]
  },
  {
   "cell_type": "code",
   "execution_count": 9,
   "metadata": {},
   "outputs": [
    {
     "name": "stdout",
     "output_type": "stream",
     "text": [
      "['11487', '11489', '11531', '11533', '11608', '11616', '11623', '11625', '11660', '11692', '11828', '11997', '12010', '12036', '12161', '12199', '12218', '12315', '12425', '12581', '12587', '12717', '12805', '12867', '12876', '12907', '12978', '12996', '13004', '13032', '13122', '13363', '13372', '13373', '13522', '13714', '13766', '13775', '13778', '13780', '13781', '13806', '13931', '13969', '14048', '14081', '14177', '14193', '14245', '14246', '14437', '14469', '14476', '14503', '14604', '14675', '14683', '14690', '14703', '14712', '14855', '14909', '15070', '15128', '15156', '15165', '15204', '15210', '15310', '15366', '15385', '15536', '15629', '15774', '15824', '15837', '15880', '15921', '15967', '16010', '16090', '16091', '16092', '16093', '16094', '16095', '16096', '16097', '16098', '16099', '16100', '16101', '16102', '16103', '16104', '16107', '16108', '16109', '16110', '16113', '16114', '16115', '16230', '16272', '16290', '16304', '16364', '16365', '16366', '16367', '16368', '16369', '16370', '16371', '16372', '16373', '16374', '16375', '16476', '16477', '16478', '16479', '16480', '16481', '16482', '16511', '16589', '16590', '16591', '16592', '16593', '16594', '16595', '16596', '16597', '16598', '16599', '16647', '16717', '16767', '16802', '16803', '16805', '16806', '16807', '16808', '16809', '16810', '16811', '16812', '16813', '16814', '16815', '16816', '16817', '16818', '16819', '16820', '16821', '16822', '16823', '16824', '16825', '16826', '16853', '16854', '16855', '16856', '16857', '16858', '16859', '16920', '16930', '17074', '17176', '17279', '17295', '17296', '7299', '7392', '7437', '7480', '7565', '7718', '8041', '8145', '8157', '8205', '8206', '8238', '8316', '8317', '8320', '8566', '8627', '8662', '8801', '9081', '9093', '9094', '9116', '9241', '9374', '9383', '9412', '9434', '9435', '9757', '9785', '9790', '9807', '9841']\n"
     ]
    }
   ],
   "source": [
    "all_ullyses_pids = select_all_pids()\n",
    "print(all_ullyses_pids)"
   ]
  },
  {
   "cell_type": "markdown",
   "metadata": {},
   "source": [
    "Example 2: select all SMC and LMC targets and their extras"
   ]
  },
  {
   "cell_type": "code",
   "execution_count": 76,
   "metadata": {},
   "outputs": [
    {
     "name": "stdout",
     "output_type": "stream",
     "text": [
      "['16098', '16099', '16100', '16101', '16102', '16103', '16368', '16370', '16371', '16372', '16373', '16375', '16802', '16803', '16805', '16806', '16807', '16808', '16809', '17295', '7437', '7480', '8145', '8566', '9094', '9116', '9383', '9434', '11487', '11489', '11623', '11625', '11997', '12010', '12425', '12581', '12717', '12805', '13004', '13122', '13373', '13522', '13778', '13931', '13969', '14081', '14437', '14476', '14503', '14712', '14855', '14909', '15366', '15385', '15536', '15629', '15774', '15837', '16230', '16090', '16091', '16092', '16093', '16094', '16095', '16096', '16097', '16364', '16365', '16366', '16367', '16369', '16374', '16810', '16811', '16812', '16813', '16814', '16815', '16816', '16817', '16818', '16819', '16820', '16821', '16822', '16823', '16824', '16825', '16826', '17296', '7299', '7392', '8320', '8662', '9434', '9757', '12218', '12581', '12978', '14675', '14683', '15629', '15824', '16304', '16230']\n"
     ]
    }
   ],
   "source": [
    "all_smc_lmc_pids = select_pids('smc') + select_pids('lmc')\n",
    "print(all_smc_lmc_pids)"
   ]
  },
  {
   "cell_type": "markdown",
   "metadata": {},
   "source": [
    "Example 3: select all massive stars without the extras, and return a list separated by ULLYSES PIDs vs Archival PIDS"
   ]
  },
  {
   "cell_type": "code",
   "execution_count": 13,
   "metadata": {},
   "outputs": [
    {
     "name": "stdout",
     "output_type": "stream",
     "text": [
      "['16090', '16091', '16092', '16093', '16094', '16095', '16096', '16097', '16098', '16099', '16100', '16101', '16102', '16103', '16104', '16364', '16365', '16366', '16367', '16368', '16369', '16370', '16371', '16372', '16373', '16374', '16375', '16511', '16802', '16803', '16805', '16806', '16807', '16808', '16809', '16810', '16811', '16812', '16813', '16814', '16815', '16816', '16817', '16818', '16819', '16820', '16821', '16822', '16823', '16824', '16825', '16826', '16930', '17295', '17296']\n",
      "['11487', '11489', '11623', '11625', '11997', '12010', '12218', '12425', '12581', '12717', '12805', '12978', '13004', '13122', '13373', '13522', '13778', '13931', '13969', '14081', '14437', '14476', '14503', '14675', '14683', '14712', '14855', '14909', '15366', '15385', '15536', '15629', '15774', '15824', '15837', '16230', '16304', '7299', '7392', '7437', '7480', '8145', '8320', '8566', '8662', '9094', '9116', '9383', '9434', '9757']\n"
     ]
    }
   ],
   "source": [
    "massive_pids = select_all_pids(massive=True, extra=False, single_list=False)\n",
    "print(massive_pids['ULLYSES'])\n",
    "print(massive_pids['ARCHIVAL'])"
   ]
  },
  {
   "cell_type": "markdown",
   "metadata": {},
   "source": [
    "We can again use Astroquery to download the HLSPs from these selected PIDs. The following example is for our second selection on all SMC and LMC targets and their extras."
   ]
  },
  {
   "cell_type": "code",
   "execution_count": 133,
   "metadata": {
    "scrolled": true
   },
   "outputs": [
    {
     "name": "stdout",
     "output_type": "stream",
     "text": [
      "intentType obs_collection provenance_name          instrument_name          project         filters         wavelength_region  target_name   ... jpegURL dataURL dataRights mtFlag srcDen   obsid     objID  \n",
      "---------- -------------- --------------- --------------------------------- ------- ----------------------- ----------------- -------------- ... ------- ------- ---------- ------ ------ --------- ---------\n",
      "   science           HLSP         ULLYSES                           COS/FUV     HST             G130M;G160M                UV       2DFS-163 ...      --      --     PUBLIC  False    nan 118405126 219472731\n",
      "   science           HLSP         ULLYSES                           COS/FUV     HST             G130M;G160M                UV      2DFS-2266 ...      --      --     PUBLIC  False    nan 118405127 219472738\n",
      "   science           HLSP         ULLYSES                           COS/FUV     HST             G130M;G160M                UV      2DFS-3689 ...      --      --     PUBLIC  False    nan 118405129 219472750\n",
      "   science           HLSP         ULLYSES                           COS/FUV     HST             G130M;G160M                UV      2DFS-3694 ...      --      --     PUBLIC  False    nan 118405130 219472756\n",
      "   science           HLSP         ULLYSES           COS/FUV | STIS/FUV-MAMA     HST             E140M;G130M                UV      2DFS-3780 ...      --      --     PUBLIC  False    nan 118405131 219472762\n",
      "   science           HLSP         ULLYSES                           COS/FUV     HST             G130M;G160M                UV      2DFS-3947 ...      --      --     PUBLIC  False    nan 118405132 219472765\n",
      "   science           HLSP         ULLYSES                           COS/FUV     HST             G130M;G160M                UV      2DFS-3954 ...      --      --     PUBLIC  False    nan 118405133 219472767\n",
      "   science           HLSP         ULLYSES                           COS/FUV     HST                   G160M                UV      2DFS-5066 ...      --      --     PUBLIC  False    nan 118405134 219472769\n",
      "   science           HLSP         ULLYSES                           COS/FUV     HST             G130M;G160M                UV          AV186 ...      --      --     PUBLIC  False    nan 118405149 219472837\n",
      "   science           HLSP         ULLYSES                           COS/FUV     HST             G130M;G160M                UV          AV189 ...      --      --     PUBLIC  False    nan 118405151 219472845\n",
      "   science           HLSP         ULLYSES COS/FUV | COS/NUV | STIS/NUV-MAMA     HST E230M;G130M;G160M;G185M                UV          AV200 ...      --      --     PUBLIC  False    nan 118405152 219472849\n",
      "   science           HLSP         ULLYSES     STIS/FUV-MAMA | STIS/NUV-MAMA     HST             E140M;E230M                UV           AV22 ...      --      --     PUBLIC  False    nan 118405157 219472864\n",
      "   science           HLSP         ULLYSES                           COS/FUV     HST             G130M;G160M                UV          AV224 ...      --      --     PUBLIC  False    nan 118405159 219472869\n",
      "   science           HLSP         ULLYSES           COS/FUV | STIS/NUV-MAMA     HST       E230M;G130M;G160M                UV          AV234 ...      --      --     PUBLIC  False    nan 118405161 219472876\n",
      "   science           HLSP         ULLYSES                           COS/FUV     HST             G130M;G160M                UV          AV251 ...      --      --     PUBLIC  False    nan 118405165 219472884\n",
      "   science           HLSP         ULLYSES                     STIS/FUV-MAMA     HST                   E140M                UV          AV258 ...      --      --     PUBLIC  False    nan 118405166 219472886\n",
      "   science           HLSP         ULLYSES                     STIS/FUV-MAMA     HST                   E140M                UV          AV287 ...      --      --     PUBLIC  False    nan 118405172 219472900\n",
      "   science           HLSP         ULLYSES COS/FUV | COS/NUV | STIS/NUV-MAMA     HST E230M;G130M;G160M;G185M                UV          AV314 ...      --      --     PUBLIC  False    nan 118405176 219472907\n",
      "   science           HLSP         ULLYSES                     STIS/FUV-MAMA     HST                   E140M                UV          AV317 ...      --      --     PUBLIC  False    nan 118405177 219472908\n",
      "   science           HLSP         ULLYSES COS/FUV | COS/NUV | STIS/NUV-MAMA     HST E230M;G130M;G160M;G185M                UV          AV324 ...      --      --     PUBLIC  False    nan 118405179 219472912\n",
      "       ...            ...             ...                               ...     ...                     ...               ...            ... ...     ...     ...        ...    ...    ...       ...       ...\n",
      "   science           HLSP         ULLYSES                           COS/FUV     HST             G130M;G160M                UV      ST92-4-18 ...      --      --     PUBLIC  False    nan 118405446 219475066\n",
      "   science           HLSP         ULLYSES                           COS/FUV     HST             G130M;G160M                UV      ST92-5-27 ...      --      --     PUBLIC  False    nan 118405447 219475067\n",
      "   science           HLSP         ULLYSES                           COS/FUV     HST             G130M;G160M                UV      ST92-5-31 ...      --      --     PUBLIC  False    nan 118405448 219475068\n",
      "   science           HLSP         ULLYSES                           COS/FUV     HST             G130M;G160M                UV UCAC3-42-30814 ...      --      --     PUBLIC  False    nan 118405478 219475668\n",
      "   science           HLSP         ULLYSES                           COS/FUV     HST             G130M;G160M                UV UCAC3-42-33014 ...      --      --     PUBLIC  False    nan 118405479 219475689\n",
      "   science           HLSP         ULLYSES                           COS/FUV     HST             G130M;G160M                UV       VFTS-169 ...      --      --     PUBLIC  False    nan 118405521 219476296\n",
      "   science           HLSP         ULLYSES                           COS/FUV     HST             G130M;G160M                UV       VFTS-190 ...      --      --     PUBLIC  False    nan 118405522 219476310\n",
      "   science           HLSP         ULLYSES                           COS/FUV     HST             G130M;G160M                UV       VFTS-267 ...      --      --     PUBLIC  False    nan 118405523 219476319\n",
      "   science           HLSP         ULLYSES                           COS/FUV     HST             G130M;G160M                UV       VFTS-355 ...      --      --     PUBLIC  False    nan 118405524 219476333\n",
      "   science           HLSP         ULLYSES                           COS/FUV     HST             G130M;G160M                UV       VFTS-404 ...      --      --     PUBLIC  False    nan 118405525 219476343\n",
      "   science           HLSP         ULLYSES                           COS/FUV     HST             G130M;G160M                UV       VFTS-406 ...      --      --     PUBLIC  False    nan 118405526 219476362\n",
      "   science           HLSP         ULLYSES                           COS/FUV     HST             G130M;G160M                UV       VFTS-482 ...      --      --     PUBLIC  False    nan 118405527 219476395\n",
      "   science           HLSP         ULLYSES                           COS/FUV     HST             G130M;G160M                UV       VFTS-506 ...      --      --     PUBLIC  False    nan 118405528 219476413\n",
      "   science           HLSP         ULLYSES                           COS/FUV     HST             G130M;G160M                UV       VFTS-542 ...      --      --     PUBLIC  False    nan 118405529 219476425\n",
      "   science           HLSP         ULLYSES                           COS/FUV     HST             G130M;G160M                UV        VFTS-66 ...      --      --     PUBLIC  False    nan 118405530 219476434\n",
      "   science           HLSP         ULLYSES                     STIS/FUV-MAMA     HST                   E140M                UV        VFTS440 ...      --      --     PUBLIC  False    nan 118405532 219476505\n",
      "   science           HLSP         ULLYSES                           COS/FUV     HST             G130M;G160M                UV        VFTS586 ...      --      --     PUBLIC  False    nan 118405533 219476524\n",
      "   science           HLSP         ULLYSES                     STIS/FUV-MAMA     HST                   E140M                UV         VFTS87 ...      --      --     PUBLIC  False    nan 118405535 219476565\n",
      "   science           HLSP         ULLYSES                           COS/FUV     HST             G130M;G160M                UV      W61-28-23 ...      --      --     PUBLIC  False    nan 118405536 219476577\n",
      "   science           HLSP         ULLYSES                           COS/FUV     HST             G130M;G160M                UV       W61-28-5 ...      --      --     PUBLIC  False    nan 118405537 219476593\n",
      "Length = 92 rows\n"
     ]
    }
   ],
   "source": [
    "search_pids = Observations.query_criteria(proposal_id=all_smc_lmc_pids, provenance_name='ULLYSES')\n",
    "search_pids.pprint()\n",
    "\n",
    "data_products_pids = Observations.get_product_list(search_pids['obsid'])\n",
    "\n",
    "output_dir_smc_lmc = './all_smc_lmc'\n",
    "\n",
    "Observations.download_products(data_products_pids, download_dir=output_dir_smc_lmc, extension=['fits'], obs_collection=['HLSP'])\n",
    "\n",
    "mv_downloads(output_dir_smc_lmc)"
   ]
  },
  {
   "cell_type": "markdown",
   "metadata": {},
   "source": [
    "<a id=\"constiuent\"></a>\n",
    "# Downloading HLSP Constiuent Raw Data Files"
   ]
  },
  {
   "cell_type": "markdown",
   "metadata": {},
   "source": [
    "For the last example, we'll show how to download the raw data files that made up a HLSP. We will use one of the data sets that we downloaded in the last example here. Our HLSP will be the file `hlsp_ullyses_hst_cos_ngc1818-rob-d1_g130m-g160m-g185m_dr6_cspec.fits`, which is a level 4 product for the target NGC1818-ROB-D1. We can look at the provenance table in this file to find the constiuent spectra."
   ]
  },
  {
   "cell_type": "code",
   "execution_count": 136,
   "metadata": {},
   "outputs": [],
   "source": [
    "hlsp_file_path = os.path.join(output_dir_smc_lmc, 'hlsp_ullyses_hst_cos_ngc1818-rob-d1_g130m-g160m-g185m_dr6_cspec.fits')"
   ]
  },
  {
   "cell_type": "code",
   "execution_count": 137,
   "metadata": {},
   "outputs": [
    {
     "name": "stdout",
     "output_type": "stream",
     "text": [
      "     FILENAME      PROPOSID INSTRUMENT DETECTOR DISPERSER APERTURE XPOSURE\n",
      "------------------ -------- ---------- -------- --------- -------- -------\n",
      "lcyid1acq_x1d.fits    14081        COS      FUV     G130M      PSA 521.024\n",
      "lcyid1anq_x1d.fits    14081        COS      FUV     G130M      PSA 570.016\n",
      "lcyid1agq_x1d.fits    14081        COS      FUV     G130M      PSA 570.016\n",
      "lcyid1ayq_x1d.fits    14081        COS      FUV     G130M      PSA 570.048\n",
      "lcyid1aaq_x1d.fits    14081        COS      FUV     G130M      PSA 521.024\n",
      "lcyid1arq_x1d.fits    14081        COS      FUV     G130M      PSA 570.016\n",
      "lcyid1aeq_x1d.fits    14081        COS      FUV     G130M      PSA 521.024\n",
      "lcyid1a8q_x1d.fits    14081        COS      FUV     G130M      PSA 521.024\n",
      "lcyid1crq_x1d.fits    14081        COS      FUV     G160M      PSA  2003.2\n",
      "lcyid1cjq_x1d.fits    14081        COS      FUV     G160M      PSA  2003.2\n",
      "lcyid1b6q_x1d.fits    14081        COS      FUV     G160M      PSA  1735.2\n",
      "lcyid1c9q_x1d.fits    14081        COS      FUV     G160M      PSA  2003.2\n",
      "lcyid1bsq_x1d.fits    14081        COS      FUV     G160M      PSA  1735.2\n",
      "lcyid1b1q_x1d.fits    14081        COS      FUV     G160M      PSA  1735.2\n",
      "lcyid1cuq_x1d.fits    14081        COS      FUV     G160M      PSA  2003.2\n",
      "lcyid1bzq_x1d.fits    14081        COS      FUV     G160M      PSA  1735.2\n",
      "lcyid2peq_x1d.fits    14081        COS      NUV     G185M      PSA 475.008\n",
      "lcyid3mtq_x1d.fits    14081        COS      NUV     G185M      PSA   416.0\n",
      "lcyid2pgq_x1d.fits    14081        COS      NUV     G185M      PSA 485.024\n",
      "lcyid3mnq_x1d.fits    14081        COS      NUV     G185M      PSA   416.0\n",
      "lcyid2p8q_x1d.fits    14081        COS      NUV     G185M      PSA 475.008\n",
      "lcyid2pmq_x1d.fits    14081        COS      NUV     G185M      PSA 485.024\n",
      "lcyid2piq_x1d.fits    14081        COS      NUV     G185M      PSA 484.992\n",
      "lcyid2pcq_x1d.fits    14081        COS      NUV     G185M      PSA 475.008\n",
      "lcyid2pkq_x1d.fits    14081        COS      NUV     G185M      PSA 485.024\n",
      "lcyid3mhq_x1d.fits    14081        COS      NUV     G185M      PSA 394.016\n",
      "lcyid3mrq_x1d.fits    14081        COS      NUV     G185M      PSA 416.032\n",
      "lcyid3mjq_x1d.fits    14081        COS      NUV     G185M      PSA 394.016\n",
      "lcyid3mfq_x1d.fits    14081        COS      NUV     G185M      PSA 394.016\n",
      "lcyid2paq_x1d.fits    14081        COS      NUV     G185M      PSA 475.008\n",
      "lcyid3mlq_x1d.fits    14081        COS      NUV     G185M      PSA 394.016\n",
      "lcyid3mpq_x1d.fits    14081        COS      NUV     G185M      PSA 416.032\n"
     ]
    }
   ],
   "source": [
    "prov_table = Table(fits.getdata(hlsp_file_path, ext=2))\n",
    "prov_table.pprint_include_names = ('FILENAME', 'PROPOSID', 'INSTRUMENT', 'DETECTOR', 'DISPERSER', 'APERTURE', 'XPOSURE')\n",
    "prov_table.pprint()"
   ]
  },
  {
   "cell_type": "code",
   "execution_count": 138,
   "metadata": {},
   "outputs": [],
   "source": [
    "# Make a list that is just the constiuent files from the provenance data\n",
    "# We will use this for comparison later\n",
    "spectra_filenames = prov_table['FILENAME']"
   ]
  },
  {
   "cell_type": "markdown",
   "metadata": {},
   "source": [
    "Next, we'll run a search using Astroquery on the target name and specifying the provenance name as ULLYSES. Then, we can see the data products associated with this search."
   ]
  },
  {
   "cell_type": "code",
   "execution_count": 139,
   "metadata": {},
   "outputs": [
    {
     "name": "stdout",
     "output_type": "stream",
     "text": [
      "                          productFilename                           \n",
      "--------------------------------------------------------------------\n",
      "hlsp_ullyses_hst_cos_ngc1818-rob-d1_g130m-g160m-g185m_dr6_cspec.fits\n",
      "            hlsp_ullyses_hst_cos_ngc1818-rob-d1_g130m_dr6_cspec.fits\n",
      "            hlsp_ullyses_hst_cos_ngc1818-rob-d1_g160m_dr6_cspec.fits\n",
      "            hlsp_ullyses_hst_cos_ngc1818-rob-d1_g185m_dr6_cspec.fits\n",
      "            hlsp_ullyses_hst_cos_ngc1818-rob-d1_g225m_dr6_cspec.fits\n",
      "                                                  lcyid1010_asn.fits\n",
      "                                                  lcyid1010_jif.fits\n",
      "                                                  lcyid1010_jit.fits\n",
      "                                                  lcyid1010_trl.fits\n",
      "                                              lcyid1010_x1dsum1.fits\n",
      "                                              lcyid1010_x1dsum2.fits\n",
      "                                              lcyid1010_x1dsum3.fits\n",
      "                                              lcyid1010_x1dsum4.fits\n",
      "                                                   lcyid1010_log.txt\n",
      "                                                lcyid1010_x1dsum.png\n",
      "                                               lcyid1010_x1dsum1.png\n",
      "                                               lcyid1010_x1dsum2.png\n",
      "                                               lcyid1010_x1dsum3.png\n",
      "                                               lcyid1010_x1dsum4.png\n",
      "                                          lcyid1010_x1dsum_prev.fits\n",
      "                                                                 ...\n",
      "                                            lcyid3mrq_lampflash.fits\n",
      "                                                  lcyid3mrq_spt.fits\n",
      "                                                  lcyid3mrq_trl.fits\n",
      "                                                   lcyid3mrq_log.txt\n",
      "                                                   lcyid3mrq_x1d.png\n",
      "                                             lcyid3mrq_x1d_prev.fits\n",
      "                                                  lcyid3mrq_flt.fits\n",
      "                                               lcyid3mrq_rawtag.fits\n",
      "                                                  lcyid3mrq_x1d.fits\n",
      "                                              lcyid3mtq_corrtag.fits\n",
      "                                               lcyid3mtq_counts.fits\n",
      "                                            lcyid3mtq_lampflash.fits\n",
      "                                                  lcyid3mtq_spt.fits\n",
      "                                                  lcyid3mtq_trl.fits\n",
      "                                                   lcyid3mtq_log.txt\n",
      "                                                   lcyid3mtq_x1d.png\n",
      "                                             lcyid3mtq_x1d_prev.fits\n",
      "                                                  lcyid3mtq_flt.fits\n",
      "                                               lcyid3mtq_rawtag.fits\n",
      "                                                  lcyid3mtq_x1d.fits\n",
      "Length = 581 rows\n"
     ]
    }
   ],
   "source": [
    "search_target = Observations.query_criteria(target_name='ngc1818-rob-d1', provenance_name='ULLYSES')\n",
    "\n",
    "data_products = Observations.get_product_list(search_target['obsid'])\n",
    "print(data_products['productFilename'])"
   ]
  },
  {
   "cell_type": "markdown",
   "metadata": {},
   "source": [
    "Let's use a for-loop to compare the constiuent filenames from the provenance table to the data products returned from our query. We'll only save the observation IDs of the matching data products for later downloading."
   ]
  },
  {
   "cell_type": "code",
   "execution_count": 140,
   "metadata": {},
   "outputs": [],
   "source": [
    "to_download = []\n",
    "for assocfile, obsid in zip(data_products['productFilename'], data_products['obsID']):\n",
    "    if assocfile in filenames:\n",
    "        to_download.append(obsid)"
   ]
  },
  {
   "cell_type": "markdown",
   "metadata": {},
   "source": [
    "Last, we can download the products that we saved in `to_download`. In the call to `download_products` in the following cell, not that we must specify the `obs_collection=['HST']`, which ensures we will not download any HLSPs, as well as `productSubGroupDescription=['X1D', 'SX1']`, otherwise all the other COS or STIS data products will be downloaded as well. One may change these parameters if more data products are desired."
   ]
  },
  {
   "cell_type": "code",
   "execution_count": 150,
   "metadata": {},
   "outputs": [
    {
     "name": "stdout",
     "output_type": "stream",
     "text": [
      "INFO: Found cached file ./ngc1818-rob-d1/mastDownload/HST/lcyid1a8q/lcyid1a8q_x1d.fits with expected size 3389760. [astroquery.query]\n",
      "INFO: Found cached file ./ngc1818-rob-d1/mastDownload/HST/lcyid1aaq/lcyid1aaq_x1d.fits with expected size 3389760. [astroquery.query]\n",
      "INFO: Found cached file ./ngc1818-rob-d1/mastDownload/HST/lcyid1acq/lcyid1acq_x1d.fits with expected size 3389760. [astroquery.query]\n",
      "INFO: Found cached file ./ngc1818-rob-d1/mastDownload/HST/lcyid1aeq/lcyid1aeq_x1d.fits with expected size 3389760. [astroquery.query]\n",
      "INFO: Found cached file ./ngc1818-rob-d1/mastDownload/HST/lcyid1agq/lcyid1agq_x1d.fits with expected size 3389760. [astroquery.query]\n",
      "INFO: Found cached file ./ngc1818-rob-d1/mastDownload/HST/lcyid1anq/lcyid1anq_x1d.fits with expected size 3389760. [astroquery.query]\n",
      "INFO: Found cached file ./ngc1818-rob-d1/mastDownload/HST/lcyid1arq/lcyid1arq_x1d.fits with expected size 3389760. [astroquery.query]\n",
      "INFO: Found cached file ./ngc1818-rob-d1/mastDownload/HST/lcyid1ayq/lcyid1ayq_x1d.fits with expected size 3389760. [astroquery.query]\n",
      "INFO: Found cached file ./ngc1818-rob-d1/mastDownload/HST/lcyid1b1q/lcyid1b1q_x1d.fits with expected size 3389760. [astroquery.query]\n",
      "INFO: Found cached file ./ngc1818-rob-d1/mastDownload/HST/lcyid1b6q/lcyid1b6q_x1d.fits with expected size 3389760. [astroquery.query]\n",
      "INFO: Found cached file ./ngc1818-rob-d1/mastDownload/HST/lcyid1bsq/lcyid1bsq_x1d.fits with expected size 3389760. [astroquery.query]\n",
      "INFO: Found cached file ./ngc1818-rob-d1/mastDownload/HST/lcyid1bzq/lcyid1bzq_x1d.fits with expected size 3389760. [astroquery.query]\n",
      "INFO: Found cached file ./ngc1818-rob-d1/mastDownload/HST/lcyid1c9q/lcyid1c9q_x1d.fits with expected size 3389760. [astroquery.query]\n",
      "INFO: Found cached file ./ngc1818-rob-d1/mastDownload/HST/lcyid1cjq/lcyid1cjq_x1d.fits with expected size 3389760. [astroquery.query]\n",
      "INFO: Found cached file ./ngc1818-rob-d1/mastDownload/HST/lcyid1crq/lcyid1crq_x1d.fits with expected size 3389760. [astroquery.query]\n",
      "INFO: Found cached file ./ngc1818-rob-d1/mastDownload/HST/lcyid1cuq/lcyid1cuq_x1d.fits with expected size 3389760. [astroquery.query]\n",
      "INFO: Found cached file ./ngc1818-rob-d1/mastDownload/HST/lcyid2p8q/lcyid2p8q_x1d.fits with expected size 429120. [astroquery.query]\n",
      "INFO: Found cached file ./ngc1818-rob-d1/mastDownload/HST/lcyid2paq/lcyid2paq_x1d.fits with expected size 429120. [astroquery.query]\n",
      "INFO: Found cached file ./ngc1818-rob-d1/mastDownload/HST/lcyid2pcq/lcyid2pcq_x1d.fits with expected size 429120. [astroquery.query]\n",
      "INFO: Found cached file ./ngc1818-rob-d1/mastDownload/HST/lcyid2peq/lcyid2peq_x1d.fits with expected size 429120. [astroquery.query]\n",
      "INFO: Found cached file ./ngc1818-rob-d1/mastDownload/HST/lcyid2pgq/lcyid2pgq_x1d.fits with expected size 429120. [astroquery.query]\n",
      "INFO: Found cached file ./ngc1818-rob-d1/mastDownload/HST/lcyid2piq/lcyid2piq_x1d.fits with expected size 429120. [astroquery.query]\n",
      "INFO: Found cached file ./ngc1818-rob-d1/mastDownload/HST/lcyid2pkq/lcyid2pkq_x1d.fits with expected size 429120. [astroquery.query]\n",
      "INFO: Found cached file ./ngc1818-rob-d1/mastDownload/HST/lcyid2pmq/lcyid2pmq_x1d.fits with expected size 429120. [astroquery.query]\n",
      "INFO: Found cached file ./ngc1818-rob-d1/mastDownload/HST/lcyid3mfq/lcyid3mfq_x1d.fits with expected size 429120. [astroquery.query]\n",
      "INFO: Found cached file ./ngc1818-rob-d1/mastDownload/HST/lcyid3mhq/lcyid3mhq_x1d.fits with expected size 429120. [astroquery.query]\n",
      "INFO: Found cached file ./ngc1818-rob-d1/mastDownload/HST/lcyid3mjq/lcyid3mjq_x1d.fits with expected size 429120. [astroquery.query]\n",
      "INFO: Found cached file ./ngc1818-rob-d1/mastDownload/HST/lcyid3mlq/lcyid3mlq_x1d.fits with expected size 429120. [astroquery.query]\n",
      "INFO: Found cached file ./ngc1818-rob-d1/mastDownload/HST/lcyid3mnq/lcyid3mnq_x1d.fits with expected size 429120. [astroquery.query]\n",
      "INFO: Found cached file ./ngc1818-rob-d1/mastDownload/HST/lcyid3mpq/lcyid3mpq_x1d.fits with expected size 429120. [astroquery.query]\n",
      "INFO: Found cached file ./ngc1818-rob-d1/mastDownload/HST/lcyid3mrq/lcyid3mrq_x1d.fits with expected size 429120. [astroquery.query]\n",
      "INFO: Found cached file ./ngc1818-rob-d1/mastDownload/HST/lcyid3mtq/lcyid3mtq_x1d.fits with expected size 429120. [astroquery.query]\n"
     ]
    }
   ],
   "source": [
    "output_dir = './ngc1818-rob-d1/'\n",
    "Observations.download_products(to_download, download_dir=output_dir, extension=['fits'], obs_collection=['HST'], productSubGroupDescription=['X1D', 'SX1'])\n",
    "mv_downloads(output_dir)"
   ]
  },
  {
   "cell_type": "markdown",
   "metadata": {},
   "source": [
    "#### Now, go forth and download and make beautiful discoveries with our ULLYSES products!"
   ]
  },
  {
   "cell_type": "markdown",
   "metadata": {},
   "source": [
    "***"
   ]
  },
  {
   "cell_type": "markdown",
   "metadata": {},
   "source": [
    "## Additional Resources\n",
    "\n",
    "- [ULLYSES](https://ullyses.stsci.edu)\n",
    "- [MAST API](https://mast.stsci.edu/api/v0/index.html)"
   ]
  },
  {
   "cell_type": "markdown",
   "metadata": {},
   "source": [
    "## About this Notebook\n",
    "For support, contact us at the [ULLYSES Helpdesk](https://stsci.service-now.com/hst?id=sc_cat_item&sys_id=a3b8ec5edbb7985033b55dd5ce961990&sysparm_category=ac85189bdb4683c033b55dd5ce96199c).\n",
    "\n",
    "**Author:**  Elaine M Frazer\n",
    "\n",
    "**Updated On:** 2023-12-07"
   ]
  },
  {
   "cell_type": "markdown",
   "metadata": {},
   "source": [
    "## Citations\n",
    "* See the [ULLYSES website](https://ullyses.stsci.edu/ullyses-cite.html) for citation guidelines."
   ]
  },
  {
   "cell_type": "markdown",
   "metadata": {},
   "source": [
    "***"
   ]
  },
  {
   "cell_type": "markdown",
   "metadata": {},
   "source": [
    "[Top of Page](#top)\n",
    "<img style=\"float: right;\" src=\"https://raw.githubusercontent.com/spacetelescope/notebooks/master/assets/stsci_pri_combo_mark_horizonal_white_bkgd.png\" alt=\"Space Telescope Logo\" width=\"200px\"/> "
   ]
  }
 ],
 "metadata": {
  "kernelspec": {
   "display_name": "Python 3 (ipykernel)",
   "language": "python",
   "name": "python3"
  },
  "language_info": {
   "codemirror_mode": {
    "name": "ipython",
    "version": 3
   },
   "file_extension": ".py",
   "mimetype": "text/x-python",
   "name": "python",
   "nbconvert_exporter": "python",
   "pygments_lexer": "ipython3",
   "version": "3.8.18"
  }
 },
 "nbformat": 4,
 "nbformat_minor": 4
}
